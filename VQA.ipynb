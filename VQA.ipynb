{
  "nbformat": 4,
  "nbformat_minor": 0,
  "metadata": {
    "colab": {
      "provenance": [],
      "gpuType": "T4",
      "authorship_tag": "ABX9TyP1SFwVQadBYut3IZd2cNB1",
      "include_colab_link": true
    },
    "kernelspec": {
      "name": "python3",
      "display_name": "Python 3"
    },
    "language_info": {
      "name": "python"
    },
    "accelerator": "GPU"
  },
  "cells": [
    {
      "cell_type": "markdown",
      "metadata": {
        "id": "view-in-github",
        "colab_type": "text"
      },
      "source": [
        "<a href=\"https://colab.research.google.com/github/kaisarmasum/Generative-AI-Use-Case-Summarize-Dialogue/blob/main/VQA.ipynb\" target=\"_parent\"><img src=\"https://colab.research.google.com/assets/colab-badge.svg\" alt=\"Open In Colab\"/></a>"
      ]
    },
    {
      "cell_type": "code",
      "source": [
        "!pip install transformers"
      ],
      "metadata": {
        "id": "1Sa6PjAuDL_C",
        "colab": {
          "base_uri": "https://localhost:8080/"
        },
        "outputId": "95ed1383-ab74-4a8d-9b2b-300cd6e6c670"
      },
      "execution_count": null,
      "outputs": [
        {
          "output_type": "stream",
          "name": "stdout",
          "text": [
            "Requirement already satisfied: transformers in /usr/local/lib/python3.10/dist-packages (4.41.2)\n",
            "Requirement already satisfied: filelock in /usr/local/lib/python3.10/dist-packages (from transformers) (3.14.0)\n",
            "Requirement already satisfied: huggingface-hub<1.0,>=0.23.0 in /usr/local/lib/python3.10/dist-packages (from transformers) (0.23.2)\n",
            "Requirement already satisfied: numpy>=1.17 in /usr/local/lib/python3.10/dist-packages (from transformers) (1.25.2)\n",
            "Requirement already satisfied: packaging>=20.0 in /usr/local/lib/python3.10/dist-packages (from transformers) (24.0)\n",
            "Requirement already satisfied: pyyaml>=5.1 in /usr/local/lib/python3.10/dist-packages (from transformers) (6.0.1)\n",
            "Requirement already satisfied: regex!=2019.12.17 in /usr/local/lib/python3.10/dist-packages (from transformers) (2024.5.15)\n",
            "Requirement already satisfied: requests in /usr/local/lib/python3.10/dist-packages (from transformers) (2.31.0)\n",
            "Requirement already satisfied: tokenizers<0.20,>=0.19 in /usr/local/lib/python3.10/dist-packages (from transformers) (0.19.1)\n",
            "Requirement already satisfied: safetensors>=0.4.1 in /usr/local/lib/python3.10/dist-packages (from transformers) (0.4.3)\n",
            "Requirement already satisfied: tqdm>=4.27 in /usr/local/lib/python3.10/dist-packages (from transformers) (4.66.4)\n",
            "Requirement already satisfied: fsspec>=2023.5.0 in /usr/local/lib/python3.10/dist-packages (from huggingface-hub<1.0,>=0.23.0->transformers) (2023.6.0)\n",
            "Requirement already satisfied: typing-extensions>=3.7.4.3 in /usr/local/lib/python3.10/dist-packages (from huggingface-hub<1.0,>=0.23.0->transformers) (4.12.1)\n",
            "Requirement already satisfied: charset-normalizer<4,>=2 in /usr/local/lib/python3.10/dist-packages (from requests->transformers) (3.3.2)\n",
            "Requirement already satisfied: idna<4,>=2.5 in /usr/local/lib/python3.10/dist-packages (from requests->transformers) (3.7)\n",
            "Requirement already satisfied: urllib3<3,>=1.21.1 in /usr/local/lib/python3.10/dist-packages (from requests->transformers) (2.0.7)\n",
            "Requirement already satisfied: certifi>=2017.4.17 in /usr/local/lib/python3.10/dist-packages (from requests->transformers) (2024.6.2)\n"
          ]
        }
      ]
    },
    {
      "cell_type": "code",
      "source": [
        "import requests\n",
        "from PIL import Image, ImageDraw, ImageFont\n",
        "from transformers import ViltProcessor, ViltForQuestionAnswering\n",
        "import torch\n",
        "\n",
        "# Load a font\n",
        "try:\n",
        "    font = ImageFont.truetype(\"arial.ttf\", 24)\n",
        "except IOError:\n",
        "    font = ImageFont.load_default()\n",
        "\n",
        "# Load the ViLT processor and model\n",
        "processor = ViltProcessor.from_pretrained(\"dandelin/vilt-b32-finetuned-vqa\")\n",
        "model = ViltForQuestionAnswering.from_pretrained(\"dandelin/vilt-b32-finetuned-vqa\")\n",
        "\n",
        "# Define the text query\n",
        "text = \"who many?\"\n",
        "\n",
        "# List of image paths with their corresponding start time, end time, and duration\n",
        "images = [\n",
        "    { \"path\": \"/content/cat.jpeg\", \"start_time\": \"00:00:01\", \"end_time\": \"00:00:02\", \"duration\": \"00:00:01\" },\n",
        "    { \"path\": \"/content/dog.jpg\", \"start_time\": \"00:00:03\", \"end_time\": \"00:00:04\", \"duration\": \"00:00:01\" }\n",
        "    # Add more image paths and their details here\n",
        "]\n",
        "\n",
        "for idx, image_info in enumerate(images, start=1):\n",
        "    # Load an input image\n",
        "    image = Image.open(image_info[\"path\"])\n",
        "\n",
        "    # Extract image details\n",
        "    start_time = image_info[\"start_time\"]\n",
        "    end_time = image_info[\"end_time\"]\n",
        "    duration = image_info[\"duration\"]\n",
        "\n",
        "    # Add frame number, timeframe, and duration\n",
        "    frame_number = idx  # Example frame number\n",
        "\n",
        "    # Draw the frame number, timeframe, and duration on the image\n",
        "    draw = ImageDraw.Draw(image)\n",
        "    text_frame = f\"Frame: {frame_number}\"\n",
        "    text_timeframe = f\"Timeframe: {start_time} - {end_time}\"\n",
        "    text_duration = f\"Duration: {duration}\"\n",
        "\n",
        "    # Set text positions\n",
        "    text_position_frame = (10, 10)\n",
        "    text_position_timeframe = (10, 40)\n",
        "    text_position_duration = (10, 70)\n",
        "\n",
        "    # Draw text on the image\n",
        "    draw.text(text_position_frame, text_frame, fill=\"white\", font=font)\n",
        "    draw.text(text_position_timeframe, text_timeframe, fill=\"white\", font=font)\n",
        "    draw.text(text_position_duration, text_duration, fill=\"white\", font=font)\n",
        "\n",
        "    # Prepare inputs\n",
        "    inputs = processor(image, text, return_tensors=\"pt\")\n",
        "\n",
        "    # Forward pass\n",
        "    with torch.no_grad():\n",
        "        outputs = model(**inputs)\n",
        "\n",
        "    logits = outputs.logits\n",
        "    idx = logits.argmax(-1).item()\n",
        "    predicted_answer = model.config.id2label[idx]\n",
        "\n",
        "    # Add the predicted answer to the image\n",
        "    text_predicted_answer = f\"Predicted Answer: {predicted_answer}\"\n",
        "    text_position_predicted_answer = (10, 100)\n",
        "    draw.text(text_position_predicted_answer, text_predicted_answer, fill=\"white\", font=font)\n",
        "\n",
        "    # Display the image (optional)\n",
        "    image.show()\n",
        "\n",
        "    # Save the image with annotations (optional)\n",
        "    image.save(f\"annotated_image_{idx}.jpg\")\n",
        "\n",
        "    print(f\"Image {idx}:\")\n",
        "    print(f\"Predicted answer: {predicted_answer}\")\n",
        "    print(f\"Timeframe: {start_time} - {end_time}\")\n",
        "    print(f\"Duration: {duration}\")"
      ],
      "metadata": {
        "colab": {
          "base_uri": "https://localhost:8080/"
        },
        "id": "BdcVr3amXLJH",
        "outputId": "9f034e46-e5d6-4417-e98d-1e3a5358eea4"
      },
      "execution_count": null,
      "outputs": [
        {
          "output_type": "stream",
          "name": "stdout",
          "text": [
            "Image 12:\n",
            "Predicted answer: 1\n",
            "Timeframe: 00:00:01 - 00:00:02\n",
            "Duration: 00:00:01\n",
            "Image 12:\n",
            "Predicted answer: 1\n",
            "Timeframe: 00:00:03 - 00:00:04\n",
            "Duration: 00:00:01\n"
          ]
        }
      ]
    },
    {
      "cell_type": "code",
      "source": [],
      "metadata": {
        "id": "NaCzlZRBbk3Y"
      },
      "execution_count": null,
      "outputs": []
    }
  ]
}